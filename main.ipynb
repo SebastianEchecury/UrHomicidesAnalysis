{
 "cells": [
  {
   "cell_type": "markdown",
   "id": "1f5b9e8d",
   "metadata": {},
   "source": [
    "<b>Imports</b>"
   ]
  },
  {
   "cell_type": "code",
   "execution_count": 178,
   "id": "4e0f0dd2",
   "metadata": {},
   "outputs": [],
   "source": [
    "import pandas as pd\n",
    "import numpy as np\n",
    "import matplotlib.pyplot as plt\n",
    "import seaborn as sns"
   ]
  },
  {
   "cell_type": "markdown",
   "id": "da5d71df",
   "metadata": {},
   "source": [
    "<b>Data import and overview</b>"
   ]
  },
  {
   "cell_type": "code",
   "execution_count": 83,
   "id": "78ec1ea5",
   "metadata": {},
   "outputs": [],
   "source": [
    "data = pd.read_excel('homicidios_dolosos_consumados.xlsx', sheet_name='Datos')\n",
    "df = pd.DataFrame(data)"
   ]
  },
  {
   "cell_type": "code",
   "execution_count": 84,
   "id": "cb541434",
   "metadata": {},
   "outputs": [
    {
     "data": {
      "text/html": [
       "<div>\n",
       "<style scoped>\n",
       "    .dataframe tbody tr th:only-of-type {\n",
       "        vertical-align: middle;\n",
       "    }\n",
       "\n",
       "    .dataframe tbody tr th {\n",
       "        vertical-align: top;\n",
       "    }\n",
       "\n",
       "    .dataframe thead th {\n",
       "        text-align: right;\n",
       "    }\n",
       "</style>\n",
       "<table border=\"1\" class=\"dataframe\">\n",
       "  <thead>\n",
       "    <tr style=\"text-align: right;\">\n",
       "      <th></th>\n",
       "      <th>ID_VICTIMA</th>\n",
       "      <th>FECHA</th>\n",
       "      <th>AÑO</th>\n",
       "      <th>MES</th>\n",
       "      <th>TRIMESTRE</th>\n",
       "      <th>DIA_SEMANA</th>\n",
       "      <th>HORA</th>\n",
       "      <th>DEPARTAMENTO</th>\n",
       "      <th>JURISDICCION</th>\n",
       "      <th>LUGAR</th>\n",
       "      <th>...</th>\n",
       "      <th>ARMAREC</th>\n",
       "      <th>PROCESADOS</th>\n",
       "      <th>MENORESCINICIOPROC</th>\n",
       "      <th>ACLARADO</th>\n",
       "      <th>SEXO</th>\n",
       "      <th>EDADCALC</th>\n",
       "      <th>NACIONALIDAD</th>\n",
       "      <th>ANTECEDENTES</th>\n",
       "      <th>ANTECEDENTESPORESTUPEFACIENTES</th>\n",
       "      <th>REL_VICT_AGRES</th>\n",
       "    </tr>\n",
       "  </thead>\n",
       "  <tbody>\n",
       "    <tr>\n",
       "      <th>0</th>\n",
       "      <td>AAA1134816</td>\n",
       "      <td>30.04.2021</td>\n",
       "      <td>2021.0</td>\n",
       "      <td>ABRIL</td>\n",
       "      <td>SEGUNDO TRIMESTRE</td>\n",
       "      <td>VIERNES</td>\n",
       "      <td>8</td>\n",
       "      <td>CANELONES</td>\n",
       "      <td>SECCIONAL 28</td>\n",
       "      <td>VIA PUBLICA U OTROS ESPACIOS ABIERTOS</td>\n",
       "      <td>...</td>\n",
       "      <td>ARMA DE FUEGO</td>\n",
       "      <td>SIN PROCESADOS</td>\n",
       "      <td>SIN MENORES C/INICIO PROC.</td>\n",
       "      <td>SIN ACLARAR</td>\n",
       "      <td>HOMBRE</td>\n",
       "      <td>39</td>\n",
       "      <td>URUGUAYA</td>\n",
       "      <td>ANTECEDENTES POR DELITOS NO VIOLENTOS</td>\n",
       "      <td>SIN ANTECEDENTES</td>\n",
       "      <td>VINCULO DESCONOCIDO</td>\n",
       "    </tr>\n",
       "    <tr>\n",
       "      <th>1</th>\n",
       "      <td>AAA1146478</td>\n",
       "      <td>30.04.2021</td>\n",
       "      <td>2021.0</td>\n",
       "      <td>ABRIL</td>\n",
       "      <td>SEGUNDO TRIMESTRE</td>\n",
       "      <td>VIERNES</td>\n",
       "      <td>13</td>\n",
       "      <td>MONTEVIDEO</td>\n",
       "      <td>SECCIONAL 24</td>\n",
       "      <td>VIA PUBLICA U OTROS ESPACIOS ABIERTOS</td>\n",
       "      <td>...</td>\n",
       "      <td>ARMA DE FUEGO</td>\n",
       "      <td>SIN PROCESADOS</td>\n",
       "      <td>SIN MENORES C/INICIO PROC.</td>\n",
       "      <td>SIN ACLARAR</td>\n",
       "      <td>HOMBRE</td>\n",
       "      <td>33</td>\n",
       "      <td>URUGUAYA</td>\n",
       "      <td>ANTECEDENTES POR AMBOS TIPOS DE DELITOS</td>\n",
       "      <td>SIN ANTECEDENTES</td>\n",
       "      <td>VINCULO DESCONOCIDO</td>\n",
       "    </tr>\n",
       "    <tr>\n",
       "      <th>2</th>\n",
       "      <td>AAA128234</td>\n",
       "      <td>28.04.2021</td>\n",
       "      <td>2021.0</td>\n",
       "      <td>ABRIL</td>\n",
       "      <td>SEGUNDO TRIMESTRE</td>\n",
       "      <td>MIERCOLES</td>\n",
       "      <td>22</td>\n",
       "      <td>MONTEVIDEO</td>\n",
       "      <td>SECCIONAL 14</td>\n",
       "      <td>VIA PUBLICA U OTROS ESPACIOS ABIERTOS</td>\n",
       "      <td>...</td>\n",
       "      <td>ARMA DE FUEGO</td>\n",
       "      <td>SIN PROCESADOS</td>\n",
       "      <td>SIN MENORES C/INICIO PROC.</td>\n",
       "      <td>SIN ACLARAR</td>\n",
       "      <td>HOMBRE</td>\n",
       "      <td>31</td>\n",
       "      <td>URUGUAYA</td>\n",
       "      <td>ANTECEDENTES POR DELITOS VIOLENTOS</td>\n",
       "      <td>SIN ANTECEDENTES</td>\n",
       "      <td>VINCULO DESCONOCIDO</td>\n",
       "    </tr>\n",
       "    <tr>\n",
       "      <th>3</th>\n",
       "      <td>AAA199424</td>\n",
       "      <td>28.04.2021</td>\n",
       "      <td>2021.0</td>\n",
       "      <td>ABRIL</td>\n",
       "      <td>SEGUNDO TRIMESTRE</td>\n",
       "      <td>MIERCOLES</td>\n",
       "      <td>20</td>\n",
       "      <td>TACUAREMBO</td>\n",
       "      <td>SECCIONAL 2</td>\n",
       "      <td>RESIDENCIA</td>\n",
       "      <td>...</td>\n",
       "      <td>CORTO / PUNZANTE</td>\n",
       "      <td>AUTOR MAYOR FALLECIDO</td>\n",
       "      <td>SIN MENORES C/INICIO PROC.</td>\n",
       "      <td>ACLARADO</td>\n",
       "      <td>MUJER</td>\n",
       "      <td>60</td>\n",
       "      <td>URUGUAYA</td>\n",
       "      <td>SIN ANTECEDENTES</td>\n",
       "      <td>SIN ANTECEDENTES</td>\n",
       "      <td>PAREJA/EX PAREJA</td>\n",
       "    </tr>\n",
       "    <tr>\n",
       "      <th>4</th>\n",
       "      <td>AAB1152814</td>\n",
       "      <td>16.04.2021</td>\n",
       "      <td>2021.0</td>\n",
       "      <td>ABRIL</td>\n",
       "      <td>SEGUNDO TRIMESTRE</td>\n",
       "      <td>VIERNES</td>\n",
       "      <td>18</td>\n",
       "      <td>MONTEVIDEO</td>\n",
       "      <td>SECCIONAL 15</td>\n",
       "      <td>VIA PUBLICA U OTROS ESPACIOS ABIERTOS</td>\n",
       "      <td>...</td>\n",
       "      <td>ARMA DE FUEGO</td>\n",
       "      <td>SIN PROCESADOS</td>\n",
       "      <td>SIN MENORES C/INICIO PROC.</td>\n",
       "      <td>SIN ACLARAR</td>\n",
       "      <td>HOMBRE</td>\n",
       "      <td>28</td>\n",
       "      <td>URUGUAYA</td>\n",
       "      <td>ANTECEDENTES POR DELITOS VIOLENTOS</td>\n",
       "      <td>SIN ANTECEDENTES</td>\n",
       "      <td>VINCULO DESCONOCIDO</td>\n",
       "    </tr>\n",
       "  </tbody>\n",
       "</table>\n",
       "<p>5 rows × 22 columns</p>\n",
       "</div>"
      ],
      "text/plain": [
       "   ID_VICTIMA       FECHA     AÑO    MES          TRIMESTRE DIA_SEMANA HORA  \\\n",
       "0  AAA1134816  30.04.2021  2021.0  ABRIL  SEGUNDO TRIMESTRE    VIERNES    8   \n",
       "1  AAA1146478  30.04.2021  2021.0  ABRIL  SEGUNDO TRIMESTRE    VIERNES   13   \n",
       "2   AAA128234  28.04.2021  2021.0  ABRIL  SEGUNDO TRIMESTRE  MIERCOLES   22   \n",
       "3   AAA199424  28.04.2021  2021.0  ABRIL  SEGUNDO TRIMESTRE  MIERCOLES   20   \n",
       "4  AAB1152814  16.04.2021  2021.0  ABRIL  SEGUNDO TRIMESTRE    VIERNES   18   \n",
       "\n",
       "  DEPARTAMENTO  JURISDICCION                                  LUGAR  ...  \\\n",
       "0    CANELONES  SECCIONAL 28  VIA PUBLICA U OTROS ESPACIOS ABIERTOS  ...   \n",
       "1   MONTEVIDEO  SECCIONAL 24  VIA PUBLICA U OTROS ESPACIOS ABIERTOS  ...   \n",
       "2   MONTEVIDEO  SECCIONAL 14  VIA PUBLICA U OTROS ESPACIOS ABIERTOS  ...   \n",
       "3   TACUAREMBO   SECCIONAL 2                             RESIDENCIA  ...   \n",
       "4   MONTEVIDEO  SECCIONAL 15  VIA PUBLICA U OTROS ESPACIOS ABIERTOS  ...   \n",
       "\n",
       "            ARMAREC             PROCESADOS          MENORESCINICIOPROC  \\\n",
       "0     ARMA DE FUEGO         SIN PROCESADOS  SIN MENORES C/INICIO PROC.   \n",
       "1     ARMA DE FUEGO         SIN PROCESADOS  SIN MENORES C/INICIO PROC.   \n",
       "2     ARMA DE FUEGO         SIN PROCESADOS  SIN MENORES C/INICIO PROC.   \n",
       "3  CORTO / PUNZANTE  AUTOR MAYOR FALLECIDO  SIN MENORES C/INICIO PROC.   \n",
       "4     ARMA DE FUEGO         SIN PROCESADOS  SIN MENORES C/INICIO PROC.   \n",
       "\n",
       "      ACLARADO    SEXO EDADCALC NACIONALIDAD  \\\n",
       "0  SIN ACLARAR  HOMBRE       39     URUGUAYA   \n",
       "1  SIN ACLARAR  HOMBRE       33     URUGUAYA   \n",
       "2  SIN ACLARAR  HOMBRE       31     URUGUAYA   \n",
       "3     ACLARADO   MUJER       60     URUGUAYA   \n",
       "4  SIN ACLARAR  HOMBRE       28     URUGUAYA   \n",
       "\n",
       "                              ANTECEDENTES ANTECEDENTESPORESTUPEFACIENTES  \\\n",
       "0    ANTECEDENTES POR DELITOS NO VIOLENTOS               SIN ANTECEDENTES   \n",
       "1  ANTECEDENTES POR AMBOS TIPOS DE DELITOS               SIN ANTECEDENTES   \n",
       "2       ANTECEDENTES POR DELITOS VIOLENTOS               SIN ANTECEDENTES   \n",
       "3                         SIN ANTECEDENTES               SIN ANTECEDENTES   \n",
       "4       ANTECEDENTES POR DELITOS VIOLENTOS               SIN ANTECEDENTES   \n",
       "\n",
       "        REL_VICT_AGRES  \n",
       "0  VINCULO DESCONOCIDO  \n",
       "1  VINCULO DESCONOCIDO  \n",
       "2  VINCULO DESCONOCIDO  \n",
       "3     PAREJA/EX PAREJA  \n",
       "4  VINCULO DESCONOCIDO  \n",
       "\n",
       "[5 rows x 22 columns]"
      ]
     },
     "execution_count": 84,
     "metadata": {},
     "output_type": "execute_result"
    }
   ],
   "source": [
    "df.head()"
   ]
  },
  {
   "cell_type": "code",
   "execution_count": 85,
   "id": "833fec74",
   "metadata": {},
   "outputs": [
    {
     "name": "stdout",
     "output_type": "stream",
     "text": [
      "<class 'pandas.core.frame.DataFrame'>\n",
      "RangeIndex: 3780 entries, 0 to 3779\n",
      "Data columns (total 22 columns):\n",
      " #   Column                          Non-Null Count  Dtype  \n",
      "---  ------                          --------------  -----  \n",
      " 0   ID_VICTIMA                      3780 non-null   object \n",
      " 1   FECHA                           3780 non-null   object \n",
      " 2   AÑO                             3780 non-null   float64\n",
      " 3   MES                             3780 non-null   object \n",
      " 4   TRIMESTRE                       3780 non-null   object \n",
      " 5   DIA_SEMANA                      3780 non-null   object \n",
      " 6   HORA                            3780 non-null   object \n",
      " 7   DEPARTAMENTO                    3780 non-null   object \n",
      " 8   JURISDICCION                    3780 non-null   object \n",
      " 9   LUGAR                           3780 non-null   object \n",
      " 10  MOTIVO_APARENTE                 3780 non-null   object \n",
      " 11  TIPO                            3780 non-null   object \n",
      " 12  ARMAREC                         3780 non-null   object \n",
      " 13  PROCESADOS                      3780 non-null   object \n",
      " 14  MENORESCINICIOPROC              3780 non-null   object \n",
      " 15  ACLARADO                        3780 non-null   object \n",
      " 16  SEXO                            3780 non-null   object \n",
      " 17  EDADCALC                        3780 non-null   object \n",
      " 18  NACIONALIDAD                    3780 non-null   object \n",
      " 19  ANTECEDENTES                    3780 non-null   object \n",
      " 20  ANTECEDENTESPORESTUPEFACIENTES  3780 non-null   object \n",
      " 21  REL_VICT_AGRES                  3780 non-null   object \n",
      "dtypes: float64(1), object(21)\n",
      "memory usage: 649.8+ KB\n"
     ]
    }
   ],
   "source": [
    "df.info()"
   ]
  },
  {
   "cell_type": "markdown",
   "id": "126dbeee",
   "metadata": {},
   "source": [
    "<b>Taking care of nulls</b>"
   ]
  },
  {
   "cell_type": "code",
   "execution_count": 173,
   "id": "319e766e",
   "metadata": {},
   "outputs": [],
   "source": [
    "df['HORA'].value_counts()\n",
    "hora_mode = df['HORA'].mode()\n",
    "df['HORA'] = df['HORA'].replace('SIN DATO', hora_mode[0])"
   ]
  },
  {
   "cell_type": "code",
   "execution_count": 8,
   "id": "e9c457a1",
   "metadata": {},
   "outputs": [],
   "source": [
    "#df['JURISDICCION'].unique()\n",
    "#df['JURISDICCION'].value_counts()\n",
    "# 9 nulls out of 3780 --> 0.08%\n",
    "# Replace by the mode of each department"
   ]
  },
  {
   "cell_type": "code",
   "execution_count": 86,
   "id": "a2e566ca",
   "metadata": {},
   "outputs": [],
   "source": [
    "def replace_jurisdiction(df):\n",
    "    mode_by_department = df.groupby('DEPARTAMENTO')['JURISDICCION'].agg(pd.Series.mode)\n",
    "\n",
    "    def map_jurisdiction(row):\n",
    "        if row['JURISDICCION'] == 'SIN DATO':\n",
    "            return mode_by_department[row['DEPARTAMENTO']]\n",
    "        else:\n",
    "            return row['JURISDICCION']\n",
    "\n",
    "\n",
    "    df['JURISDICCION'] = df.apply(map_jurisdiction, axis=1)\n",
    "\n",
    "    return df\n",
    "\n",
    "df = replace_jurisdiction(df)"
   ]
  },
  {
   "cell_type": "code",
   "execution_count": 80,
   "id": "a83cd033",
   "metadata": {},
   "outputs": [],
   "source": [
    "#df['LUGAR'].unique()\n",
    "#df['LUGAR'].value_counts()\n",
    "# 656 nulls out of 3780 --> 17.35%\n",
    "# Change the name to OTROS"
   ]
  },
  {
   "cell_type": "code",
   "execution_count": 87,
   "id": "2d6fa2dd",
   "metadata": {},
   "outputs": [],
   "source": [
    "df['LUGAR'] = df['LUGAR'].replace('OTROS/SIN DATO', 'OTROS')"
   ]
  },
  {
   "cell_type": "code",
   "execution_count": 13,
   "id": "ff7f6835",
   "metadata": {},
   "outputs": [],
   "source": [
    "#df['MOTIVO_APARENTE'].unique()\n",
    "#df['MOTIVO_APARENTE'].value_counts()\n",
    "# 426 nulls out of 3780 --> 11.26%\n",
    "# Replace by the mode"
   ]
  },
  {
   "cell_type": "code",
   "execution_count": 88,
   "id": "125b6353",
   "metadata": {},
   "outputs": [],
   "source": [
    "motivo_aparente_mode = df['MOTIVO_APARENTE'].mode()\n",
    "#motivo_aparente_mode[0]\n",
    "df['MOTIVO_APARENTE'] = df['MOTIVO_APARENTE'].replace('SIN DATO/ DESCONOCIDO', motivo_aparente_mode[0])"
   ]
  },
  {
   "cell_type": "code",
   "execution_count": 27,
   "id": "074c9d76",
   "metadata": {},
   "outputs": [],
   "source": [
    "#df['TIPO'].unique()\n",
    "#df['TIPO'].value_counts()\n",
    "# 3201 nulls out of 3780 --> 84.68% of data 'NO CORRESPONDE', it means its not relevant\n",
    "# Drop the column"
   ]
  },
  {
   "cell_type": "code",
   "execution_count": 89,
   "id": "396f5af3",
   "metadata": {},
   "outputs": [],
   "source": [
    "df = df.drop('TIPO', axis=1)"
   ]
  },
  {
   "cell_type": "code",
   "execution_count": 23,
   "id": "2f3c9241",
   "metadata": {},
   "outputs": [],
   "source": [
    "#df['ARMAREC'].unique()\n",
    "#df['ARMAREC'].value_counts()\n",
    "# 130 nulls out of 3780 --> 3.43%\n",
    "# Replace by the mode"
   ]
  },
  {
   "cell_type": "code",
   "execution_count": 90,
   "id": "75ab843f",
   "metadata": {},
   "outputs": [],
   "source": [
    "armarec_mode = df['ARMAREC'].mode()\n",
    "#armarec_mode[0]\n",
    "df['ARMAREC'] = df['ARMAREC'].replace('SIN DATO', armarec_mode[0])"
   ]
  },
  {
   "cell_type": "code",
   "execution_count": 26,
   "id": "1c7ac1a1",
   "metadata": {},
   "outputs": [],
   "source": [
    "#df['SEXO'].unique()\n",
    "#df['SEXO'].value_counts()\n",
    "# 11 nulls out of 3780 --> 0.29%\n",
    "# Replace by the mode"
   ]
  },
  {
   "cell_type": "code",
   "execution_count": 91,
   "id": "965141ad",
   "metadata": {},
   "outputs": [],
   "source": [
    "sexo_mode = df['SEXO'].mode()\n",
    "#sexo_mode[0]\n",
    "df['SEXO'] = df['SEXO'].replace('SIN DATO', sexo_mode[0])"
   ]
  },
  {
   "cell_type": "code",
   "execution_count": 31,
   "id": "a0ed1104",
   "metadata": {},
   "outputs": [],
   "source": [
    "#df['EDADCALC'].unique()\n",
    "#df[df['EDADCALC'] == 'SIN DATO'].count()\n",
    "#df['EDADCALC'].value_counts()\n",
    "# 37 nulls out of 3780 --> 0.97%\n",
    "# Replace by the mean"
   ]
  },
  {
   "cell_type": "code",
   "execution_count": 92,
   "id": "367babc7",
   "metadata": {},
   "outputs": [],
   "source": [
    "edadcalc_mean = df[df['EDADCALC'] != 'SIN DATO']['EDADCALC'].astype(int).mean()\n",
    "#edadcalc_mean\n",
    "df['EDADCALC'] = df['EDADCALC'].replace('SIN DATO', edadcalc_mean)"
   ]
  },
  {
   "cell_type": "code",
   "execution_count": 33,
   "id": "7a418f70",
   "metadata": {},
   "outputs": [],
   "source": [
    "#df['NACIONALIDAD'].unique()\n",
    "#df['NACIONALIDAD'].value_counts()\n",
    "# 1380 nulls out of 3780 --> 36.5%\n",
    "# 2364 --> 62.53%\n",
    "# Replace by the mode or drop the column"
   ]
  },
  {
   "cell_type": "code",
   "execution_count": 93,
   "id": "50db51a5",
   "metadata": {},
   "outputs": [],
   "source": [
    "df = df.drop('NACIONALIDAD', axis=1)"
   ]
  },
  {
   "cell_type": "code",
   "execution_count": 38,
   "id": "60852c6e",
   "metadata": {},
   "outputs": [],
   "source": [
    "#df['ANTECEDENTES'].unique()\n",
    "#df['ANTECEDENTES'].value_counts()\n",
    "# 58 nulls out of 3780 --> 1.53%\n",
    "# Replace by the mode "
   ]
  },
  {
   "cell_type": "code",
   "execution_count": 94,
   "id": "1cc21640",
   "metadata": {},
   "outputs": [],
   "source": [
    "antecedente_mode = df['ANTECEDENTES'].mode()\n",
    "#antecedente_mode[0]\n",
    "df['ANTECEDENTES'] = df['ANTECEDENTES'].replace('SIN DATO', antecedente_mode[0])"
   ]
  },
  {
   "cell_type": "code",
   "execution_count": 42,
   "id": "50465f0d",
   "metadata": {},
   "outputs": [],
   "source": [
    "#df['ANTECEDENTESPORESTUPEFACIENTES'].unique()\n",
    "#df['ANTECEDENTESPORESTUPEFACIENTES'].value_counts()\n",
    "# 66 nulls out of 3780 --> 1.74%\n",
    "# Replace by the mode "
   ]
  },
  {
   "cell_type": "code",
   "execution_count": 95,
   "id": "6989206b",
   "metadata": {},
   "outputs": [],
   "source": [
    "antecedentepe_mode = df['ANTECEDENTESPORESTUPEFACIENTES'].mode()\n",
    "#antecedentepe_mode[0]\n",
    "df['ANTECEDENTESPORESTUPEFACIENTES'] = df['ANTECEDENTESPORESTUPEFACIENTES'].replace('SIN DATO', antecedentepe_mode[0])\n",
    "df['ANTECEDENTESPORESTUPEFACIENTES'] = df['ANTECEDENTESPORESTUPEFACIENTES'].replace('2', antecedentepe_mode[0])"
   ]
  },
  {
   "cell_type": "code",
   "execution_count": 12,
   "id": "cfd8ec90",
   "metadata": {},
   "outputs": [],
   "source": [
    "#df['REL_VICT_AGRES'].unique()\n",
    "#df['REL_VICT_AGRES'].value_counts()\n",
    "# 1592 nulls out of 3780 --> 42.11%\n",
    "# Drop the column, leave it like it is or divide according to the percentages"
   ]
  },
  {
   "cell_type": "code",
   "execution_count": 96,
   "id": "730a0cc1",
   "metadata": {},
   "outputs": [
    {
     "data": {
      "text/plain": [
       "AMIGO/CONOCIDO      0.555759\n",
       "SIN RELACION        0.206124\n",
       "PAREJA/EX PAREJA    0.123857\n",
       "FAMILIAR            0.114260\n",
       "Name: REL_VICT_AGRES, dtype: float64"
      ]
     },
     "execution_count": 96,
     "metadata": {},
     "output_type": "execute_result"
    }
   ],
   "source": [
    "proporciones = df[df['REL_VICT_AGRES'] != 'VINCULO DESCONOCIDO']\n",
    "proporciones = proporciones['REL_VICT_AGRES'].value_counts(normalize=True)\n",
    "proporciones"
   ]
  },
  {
   "cell_type": "code",
   "execution_count": 97,
   "id": "cf405cf6",
   "metadata": {},
   "outputs": [],
   "source": [
    "def reasignar_ponderado(row):\n",
    "    if row['REL_VICT_AGRES'] == 'VINCULO DESCONOCIDO':\n",
    "        return np.random.choice(proporciones.index, p=proporciones.values)\n",
    "    else:\n",
    "        return row['REL_VICT_AGRES']\n",
    "\n",
    "df['REL_VICT_AGRES'] = df.apply(reasignar_ponderado, axis=1)"
   ]
  },
  {
   "cell_type": "code",
   "execution_count": 98,
   "id": "678df0ef",
   "metadata": {},
   "outputs": [
    {
     "data": {
      "text/plain": [
       "AMIGO/CONOCIDO      0.558730\n",
       "SIN RELACION        0.199735\n",
       "PAREJA/EX PAREJA    0.124074\n",
       "FAMILIAR            0.117460\n",
       "Name: REL_VICT_AGRES, dtype: float64"
      ]
     },
     "execution_count": 98,
     "metadata": {},
     "output_type": "execute_result"
    }
   ],
   "source": [
    "df['REL_VICT_AGRES'].value_counts(normalize=True)"
   ]
  },
  {
   "cell_type": "markdown",
   "id": "f07e58f0",
   "metadata": {},
   "source": [
    "<b>Maping variables to number</b>"
   ]
  },
  {
   "cell_type": "code",
   "execution_count": 99,
   "id": "5d2859b8",
   "metadata": {},
   "outputs": [],
   "source": [
    "mapping = {'ENERO': '1', 'FEBRERO': '2', 'MARZO': '3', 'ABRIL': '4', 'MAYO': '5', 'JUNIO': '6', 'JULIO': '7', 'AGOSTO': '8', 'SEPTIEMBRE': '9', 'OCTUBRE': '10', 'NOVIEMBRE': '11', 'DICIEMBRE': '12'}\n",
    "df['MES_NUMERO'] = df['MES'].map(mapping)\n",
    "df = df.drop('MES', axis=1)\n",
    "#df"
   ]
  },
  {
   "cell_type": "code",
   "execution_count": 100,
   "id": "b04394de",
   "metadata": {},
   "outputs": [],
   "source": [
    "mapping = {'PRIMER TRIMESTRE': '1', 'SEGUNDO TRIMESTRE': '2', 'TERCER TRIMESTRE': '3', 'CUARTO TRIMESTRE': '4'}\n",
    "df['TRIMESTRE_NUMERO'] = df['TRIMESTRE'].map(mapping)\n",
    "df = df.drop('TRIMESTRE', axis=1)\n",
    "#df"
   ]
  },
  {
   "cell_type": "code",
   "execution_count": 101,
   "id": "550a2ff5",
   "metadata": {},
   "outputs": [],
   "source": [
    "mapping = {'LUNES': '1', 'MARTES': '2', 'MIERCOLES': '3', 'JUEVES': '4', 'VIERNES': '5', 'SABADO': '6', 'DOMINGO': '7'}\n",
    "df['DIA_SEMANA_NUMERO'] = df['DIA_SEMANA'].map(mapping)\n",
    "#df = df.drop('DIA_SEMANA', axis=1)\n",
    "#df"
   ]
  },
  {
   "cell_type": "code",
   "execution_count": 102,
   "id": "2d617e85",
   "metadata": {},
   "outputs": [],
   "source": [
    "df['RANGO_EDAD'] = df['EDADCALC'].astype(int) // 5 * 5"
   ]
  },
  {
   "cell_type": "code",
   "execution_count": 62,
   "id": "fe2c7356",
   "metadata": {},
   "outputs": [],
   "source": [
    "#df[['RANGO_EDAD', 'EDADCALC']]"
   ]
  },
  {
   "cell_type": "code",
   "execution_count": 103,
   "id": "88324586",
   "metadata": {},
   "outputs": [],
   "source": [
    "df['RANGO_EDAD'] = df['RANGO_EDAD'].astype(str) + ' - ' + (df['RANGO_EDAD'] + 5).astype(str)"
   ]
  },
  {
   "cell_type": "code",
   "execution_count": 63,
   "id": "e9488269",
   "metadata": {},
   "outputs": [],
   "source": [
    "#df[['RANGO_EDAD', 'EDADCALC']]"
   ]
  },
  {
   "cell_type": "markdown",
   "id": "285de97f",
   "metadata": {},
   "source": [
    "<b>Data overview graphically</b>"
   ]
  },
  {
   "cell_type": "code",
   "execution_count": 104,
   "id": "09962411",
   "metadata": {},
   "outputs": [],
   "source": [
    "homicides_by_year = df.groupby('AÑO').size()"
   ]
  },
  {
   "cell_type": "code",
   "execution_count": 105,
   "id": "2d0bc9c8",
   "metadata": {},
   "outputs": [
    {
     "data": {
      "image/png": "[encoded data removed]",
      "text/plain": [
       "<Figure size 720x432 with 1 Axes>"
      ]
     },
     "metadata": {
      "needs_background": "light"
     },
     "output_type": "display_data"
    }
   ],
   "source": [
    "plt.figure(figsize=(10, 6))\n",
    "plt.plot(homicides_by_year.index, homicides_by_year.values)\n",
    "plt.xlabel('Year')\n",
    "plt.ylabel('Homicides')\n",
    "plt.title('Homicides through years')\n",
    "plt.grid(True)\n",
    "plt.show()"
   ]
  },
  {
   "cell_type": "code",
   "execution_count": 106,
   "id": "76595500",
   "metadata": {},
   "outputs": [
    {
     "data": {
      "text/plain": [
       "6"
      ]
     },
     "execution_count": 106,
     "metadata": {},
     "output_type": "execute_result"
    }
   ],
   "source": [
    "df[df[\"AÑO\"] == 2024]['MES_NUMERO'].astype(int).max()"
   ]
  },
  {
   "cell_type": "code",
   "execution_count": 141,
   "id": "e24c1081",
   "metadata": {},
   "outputs": [],
   "source": [
    "df_sin_2024 = df[df['AÑO'] != 2024]\n",
    "cantidad_por_trimestre_año = df_sin_2024.groupby(['TRIMESTRE_NUMERO', 'AÑO']).size().reset_index(name='cantidad')\n",
    "promedio_trimestre = cantidad_por_trimestre_año.groupby('TRIMESTRE_NUMERO')['cantidad'].mean().reset_index()"
   ]
  },
  {
   "cell_type": "code",
   "execution_count": 142,
   "id": "fcb0511b",
   "metadata": {},
   "outputs": [
    {
     "data": {
      "image/png": "[encoded data removed]",
      "text/plain": [
       "<Figure size 720x432 with 1 Axes>"
      ]
     },
     "metadata": {
      "needs_background": "light"
     },
     "output_type": "display_data"
    }
   ],
   "source": [
    "plt.figure(figsize=(10, 6))\n",
    "plt.bar(promedio_trimestre['TRIMESTRE_NUMERO'], promedio_trimestre['cantidad'])\n",
    "plt.xlabel('Quarter')\n",
    "plt.ylabel('Average Homicides')\n",
    "plt.title('Average Homicides by Year')\n",
    "plt.xticks(promedio_trimestre['TRIMESTRE_NUMERO'])\n",
    "plt.show()"
   ]
  },
  {
   "cell_type": "code",
   "execution_count": null,
   "id": "eafb5cd8",
   "metadata": {},
   "outputs": [],
   "source": []
  },
  {
   "cell_type": "code",
   "execution_count": 169,
   "id": "cfc5fffe",
   "metadata": {},
   "outputs": [
    {
     "data": {
      "image/png": "[encoded data removed]",
      "text/plain": [
       "<Figure size 720x432 with 1 Axes>"
      ]
     },
     "metadata": {},
     "output_type": "display_data"
    }
   ],
   "source": [
    "conteo_por_genero = df['SEXO'].value_counts()\n",
    "#conteo_por_genero\n",
    "\n",
    "plt.figure(figsize=(10, 6))\n",
    "plt.pie(conteo_por_genero, labels=conteo_por_genero.index, autopct='%1.1f%%')\n",
    "\n",
    "plt.title('Homicides by gender')\n",
    "\n",
    "plt.show()"
   ]
  },
  {
   "cell_type": "code",
   "execution_count": 170,
   "id": "a076c7a6",
   "metadata": {},
   "outputs": [
    {
     "data": {
      "image/png": "[encoded data removed]",
      "text/plain": [
       "<Figure size 720x432 with 1 Axes>"
      ]
     },
     "metadata": {
      "needs_background": "light"
     },
     "output_type": "display_data"
    }
   ],
   "source": [
    "conteo_por_edades = df['RANGO_EDAD'].value_counts()\n",
    "\n",
    "\n",
    "plt.figure(figsize=(10, 6))\n",
    "plt.bar(conteo_por_edades.index, conteo_por_edades.values)\n",
    "\n",
    "# Personalizar el gráfico\n",
    "plt.xlabel('Age Range')\n",
    "plt.ylabel('Homicides')\n",
    "plt.title('Homicidios por Age')\n",
    "\n",
    "plt.show()"
   ]
  },
  {
   "cell_type": "code",
   "execution_count": 182,
   "id": "350e00fd",
   "metadata": {},
   "outputs": [],
   "source": [
    "df.to_csv('homicides.csv')"
   ]
  },
  {
   "cell_type": "code",
   "execution_count": null,
   "id": "cd65c208",
   "metadata": {},
   "outputs": [],
   "source": []
  }
 ],
 "metadata": {
  "kernelspec": {
   "display_name": "Python 3 (ipykernel)",
   "language": "python",
   "name": "python3"
  },
  "language_info": {
   "codemirror_mode": {
    "name": "ipython",
    "version": 3
   },
   "file_extension": ".py",
   "mimetype": "text/x-python",
   "name": "python",
   "nbconvert_exporter": "python",
   "pygments_lexer": "ipython3",
   "version": "3.9.12"
  }
 },
 "nbformat": 4,
 "nbformat_minor": 5
}
